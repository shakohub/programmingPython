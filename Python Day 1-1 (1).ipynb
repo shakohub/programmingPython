{
 "cells": [
  {
   "cell_type": "code",
   "execution_count": 1,
   "metadata": {},
   "outputs": [
    {
     "name": "stdout",
     "output_type": "stream",
     "text": [
      "hello world\n",
      "hello world\n"
     ]
    }
   ],
   "source": [
    "# First thing to teach (print)\n",
    "#We can use print statements to display text\n",
    "print(\"hello world\")\n",
    "print('hello world')"
   ]
  },
  {
   "cell_type": "code",
   "execution_count": 2,
   "metadata": {},
   "outputs": [
    {
     "name": "stdout",
     "output_type": "stream",
     "text": [
      "hello\n",
      "hello 5 is the combination of 2 + 3\n",
      "Can you see the comments?\n"
     ]
    }
   ],
   "source": [
    "# Second thing to teach (comments)\n",
    "#Comments are used to help people read and understand\n",
    "# or to help you remember what you are doing\n",
    "#Always good practice to include comments\n",
    "# Comments like this\n",
    "print(\"hello\")  # or like this\n",
    "print(\"hello\", 2+3, \"is the combination of 2 + 3\")  #commas split the strings and the numbers\n",
    "\n",
    "'''\n",
    "block comments\n",
    "here i can write alot of comments\n",
    "in a paragraph for myself\n",
    "'''\n",
    "\n",
    "print(\"Can you see the comments?\")\n"
   ]
  },
  {
   "cell_type": "code",
   "execution_count": 3,
   "metadata": {},
   "outputs": [
    {
     "name": "stdout",
     "output_type": "stream",
     "text": [
      "True\n",
      "False\n",
      "8\n",
      "8\n",
      "20\n",
      "7.0\n",
      "<class 'float'>\n"
     ]
    }
   ],
   "source": [
    "# Third thing to teach (operations)\n",
    "# • +: plus\n",
    "# • -: minus\n",
    "# • /: slash\n",
    "# • *: asterisk\n",
    "# • %: percent\n",
    "# • <: less-than\n",
    "# • >: greater-than\n",
    "# • <=: less-than-equal\n",
    "# • >=: greater-than-equal\n",
    "# • **: double asterick for exponential\n",
    "\n",
    "print(5 > 3)\n",
    "print(5 < 3)\n",
    "print(5+3)\n",
    "print(10-2)\n",
    "print(10*2)\n",
    "# talk about floats\n",
    "print(20/2-3)\n",
    "print(type(20/2-3))"
   ]
  },
  {
   "cell_type": "code",
   "execution_count": 4,
   "metadata": {},
   "outputs": [
    {
     "name": "stdout",
     "output_type": "stream",
     "text": [
      "Hello world\n",
      "There are 100 cars available.\n",
      "There are only 30 drivers available.\n",
      "There will be 70 empty cars today.\n",
      "We can transport 120.0 people today.\n",
      "We have 90 to carpool today.\n",
      "We need to put about 3.0 in each car.\n"
     ]
    }
   ],
   "source": [
    "# Fourth thing to teach (variables)\n",
    "#Naming conventions are usually always characters\n",
    "#most python people tend to split their variable names by underscores\n",
    "#you can assign a string  or you can assign a number\n",
    "#Make sure keep case sentivity in mind it matters. Hello is not the same as hello.\n",
    "hello = \"Hello world\"\n",
    "cars = 100\n",
    "space_in_a_car = 4.0\n",
    "drivers = 30\n",
    "passengers = 90\n",
    "cars_not_driven = cars - drivers\n",
    "cars_driven = drivers\n",
    "carpool_capacity = cars_driven * space_in_a_car\n",
    "average_passengers_per_car = passengers / cars_driven\n",
    "\n",
    "print(hello)\n",
    "print(\"There are\", cars, \"cars available.\")\n",
    "print(\"There are only\", drivers, \"drivers available.\")\n",
    "print(\"There will be\", cars_not_driven, \"empty cars today.\")\n",
    "print(\"We can transport\", carpool_capacity, \"people today.\")\n",
    "print(\"We have\", passengers, \"to carpool today.\")\n",
    "print(\"We need to put about\", average_passengers_per_car, \"in each car.\")\n"
   ]
  },
  {
   "cell_type": "code",
   "execution_count": 5,
   "metadata": {},
   "outputs": [
    {
     "name": "stdout",
     "output_type": "stream",
     "text": [
      "There are 100 cars available.\n",
      "There are only 30 drivers available.\n",
      "There will be 70 empty cars today.\n",
      "We can transport 120.0 people today.\n",
      "We have 90 to carpool today.\n",
      "We need to put about 3.0 in each car.\n"
     ]
    }
   ],
   "source": [
    "# Fifth thing to teach (variable formatted string)\n",
    "#now we are formating the string so i dont have to include commas and the variables will be pulled into the string \n",
    "#as long as I put an f in front of the double quotes and curly brackets around whatever variable I want to pull in.\n",
    "cars = 100\n",
    "space_in_a_car = 4.0\n",
    "drivers = 30\n",
    "passengers = 90\n",
    "cars_not_driven = cars - drivers\n",
    "cars_driven = drivers\n",
    "carpool_capacity = cars_driven * space_in_a_car\n",
    "average_passengers_per_car = passengers / cars_driven\n",
    "\n",
    "print(f\"There are {cars} cars available.\")\n",
    "print(f\"There are only {drivers} drivers available.\")\n",
    "print(f\"There will be {cars_not_driven} empty cars today.\")\n",
    "print(f\"We can transport {carpool_capacity} people today.\")\n",
    "print(f\"We have {passengers} to carpool today.\")\n",
    "print(f\"We need to put about {average_passengers_per_car} in each car.\")"
   ]
  },
  {
   "cell_type": "code",
   "execution_count": 6,
   "metadata": {},
   "outputs": [
    {
     "data": {
      "text/plain": [
       "0.34"
      ]
     },
     "execution_count": 6,
     "metadata": {},
     "output_type": "execute_result"
    }
   ],
   "source": [
    "# Sixth thing to teach (round)\n",
    "#Using the round() function we can round the numbers we it give it up or down\n",
    "#we are using what we call a function that python already has\n",
    "\n",
    "x = 7.6 \n",
    "y = 7.4 \n",
    "\n",
    "round(x)\n",
    "\n",
    "round(0.335,2)\n",
    "# round(y)\n",
    "# print(round(x))\n",
    "# print(round(y))"
   ]
  },
  {
   "cell_type": "code",
   "execution_count": 7,
   "metadata": {},
   "outputs": [
    {
     "name": "stdout",
     "output_type": "stream",
     "text": [
      "This is the left side of...a string with a right side.\n",
      "help\n",
      "I need help\n",
      "hello my 'people'\n",
      "hello my \"people\"\n",
      "Hello Hello Hello \n"
     ]
    }
   ],
   "source": [
    "# Seventh thing to teach (complex strings)\n",
    "\n",
    "#This is called concatenation\n",
    "#you are combining strings together\n",
    "w = \"This is the left side of...\"\n",
    "e = \"a string with a right side.\"\n",
    "print(w + e)\n",
    "\n",
    "q = \"help\" \n",
    "x = f\"I need {q}\"\n",
    "#notice that with every print you are print on a new line\n",
    "print(q)\n",
    "#what did I do?\n",
    "print(x)\n",
    "#What am I doing here?\n",
    "print(\"hello my 'people'\")\n",
    "#How about another double quote?\n",
    "print(\"hello my \\\"people\\\"\")\n",
    "#Lets repeat???\n",
    "print(\"Hello \" * 3)\n"
   ]
  },
  {
   "cell_type": "code",
   "execution_count": 1,
   "metadata": {},
   "outputs": [
    {
     "name": "stdout",
     "output_type": "stream",
     "text": [
      "Here are the days:  Mon Tue Wed Thu Fri Sat Sun\n",
      "Here are the months:  Jan\n",
      "Feb\n",
      "Mar\n",
      "Apr\n",
      "May\n",
      "Jun\n",
      "Jul\n",
      "Aug\n",
      "\n",
      "There's something going on here.\n",
      "With the three double-quotes.\n",
      "We'll be able to type as much as we like.\n",
      "Even 4 lines if we want, or 5, or 6.\n",
      "\n"
     ]
    }
   ],
   "source": [
    "# eighth thing to teach (line breaks and block print statements)\n",
    "\n",
    "days = \"Mon Tue Wed Thu Fri Sat Sun\"\n",
    "months = \"Jan\\nFeb\\nMar\\nApr\\nMay\\nJun\\nJul\\nAug\"\n",
    "\n",
    "#notice that days is all on the same line\n",
    "print(\"Here are the days: \", days)\n",
    "#notice that months are all split by a new line. Why?\n",
    "print(\"Here are the months: \", months)\n",
    "\n",
    "# Do you see the difference here? What is going on?\n",
    "print(\"\"\"\n",
    "There's something going on here.\n",
    "With the three double-quotes.\n",
    "We'll be able to type as much as we like.\n",
    "Even 4 lines if we want, or 5, or 6.\n",
    "\"\"\")"
   ]
  },
  {
   "cell_type": "code",
   "execution_count": 2,
   "metadata": {
    "scrolled": true
   },
   "outputs": [
    {
     "name": "stdout",
     "output_type": "stream",
     "text": [
      "How old are you?\n",
      "23\n",
      "How tall are you? 3\n",
      "How much do you weigh? 3\n",
      "So, you're 23 old, 3 tall and 3 heavy.\n"
     ]
    }
   ],
   "source": [
    "# ninth thing to teach (input)\n",
    "\n",
    "#We usually need to prompt users or the person that is running the program for the answer about somethings\n",
    "#So we will ask a question and then take their input just like surveys\n",
    "\n",
    "\n",
    "print(\"How old are you?\")\n",
    "#Do you see that input() is just like a print function and \n",
    "#we are now using the input function to store some text for us in a variable called age\n",
    "age = input()\n",
    "#Here I ask the question and end=' ' is to make sure the print statement doesn't move onto the next line. \n",
    "print(\"How tall are you?\", end=' ')\n",
    "height = input()\n",
    "print(\"How much do you weigh?\", end=' ')\n",
    "weight = input()\n",
    "\n",
    "#What is this again? Using a what kind of String?\n",
    "print(f\"So, you're {age} old, {height} tall and {weight} heavy.\")"
   ]
  },
  {
   "cell_type": "code",
   "execution_count": 4,
   "metadata": {},
   "outputs": [
    {
     "name": "stdout",
     "output_type": "stream",
     "text": [
      "How old are you? 34\n",
      "How tall are you? 34\n",
      "How much do you weigh? 34\n",
      "So, you're 34 old, 34 tall and 34 heavy.\n"
     ]
    }
   ],
   "source": [
    "# tenth thing to teach (prompting and answering in one line)\n",
    "\n",
    "#now we can prompt users with having to ask the question before hand.\n",
    "\n",
    "#notice how we don't use end in this case.\n",
    "#we also shortened the code by half. \n",
    "age = input(\"How old are you? \")\n",
    "height = input(\"How tall are you? \")\n",
    "weight = input(\"How much do you weigh? \")\n",
    "\n",
    "\n",
    "print(f\"So, you're {age} old, {height} tall and {weight} heavy.\")"
   ]
  },
  {
   "cell_type": "code",
   "execution_count": 5,
   "metadata": {},
   "outputs": [
    {
     "name": "stdout",
     "output_type": "stream",
     "text": [
      "I'd like to ask you a few questions.\n",
      "Do you find Python fun?\n",
      "> yes\n",
      "Where do you live?\n",
      "> dc\n",
      "What kind of computer do you have?\n",
      "> windows\n",
      "\n",
      "Alright, so you said yes about liking me.\n",
      "You live in dc. Not sure where that is.\n",
      "And you have a windows computer. Nice.\n",
      " \n"
     ]
    }
   ],
   "source": [
    "# eleventh thing to teach (inputs with a variable inside)\n",
    "\n",
    "#using this as a prompt\n",
    "prompt = '> '\n",
    "\n",
    "\n",
    "print(\"I'd like to ask you a few questions.\")\n",
    "print(\"Do you find Python fun?\")\n",
    "#using the prompt in the input section now and assigning the input value to the variable called likes\n",
    "likes = input(prompt)\n",
    "\n",
    "print(f\"Where do you live?\")\n",
    "lives = input(prompt)\n",
    "\n",
    "print(\"What kind of computer do you have?\")\n",
    "computer = input(prompt)\n",
    "\n",
    "#taking the inputs and using those values in a formatted form\n",
    "print(f\"\"\"\n",
    "Alright, so you said {likes} about liking me.\n",
    "You live in {lives}. Not sure where that is.\n",
    "And you have a {computer} computer. Nice.\n",
    " \"\"\")\n"
   ]
  },
  {
   "cell_type": "code",
   "execution_count": 6,
   "metadata": {},
   "outputs": [
    {
     "name": "stdout",
     "output_type": "stream",
     "text": [
      "arg1: Victor, arg2: Sleepy\n",
      "arg1: Sam, arg2: Sam\n",
      "arg1: one item\n",
      "I got nothin'.\n"
     ]
    }
   ],
   "source": [
    "# twelfth thing to teach (creating a function)\n",
    "\n",
    "# A function is a defined list of actions. It could be one action or it can be mutliple.\n",
    "# You decide on what the function name is and decide what it will do.\n",
    "# To create a funciton you always start with a \"def\" then the function name\n",
    "# Within the parenthsis' you put the amount of arguments you have seperated each by commas.\n",
    "# The function itself is just a defintion and it can't be used until you call it.\n",
    "# You can call it only after you have defined it.\n",
    "# The arguments in the definition are just placeholders until you actually use the function.\n",
    "\n",
    "# ok here this takes two arguments\n",
    "\n",
    "#def #name of func #parenthesis(#arguments):\n",
    "    #tabbed line\n",
    "    \n",
    "\n",
    "\n",
    "# this just takes one argument\n",
    "def print_one(arg1):\n",
    "    print(f\"arg1: {arg1}\")\n",
    "\n",
    "# this one takes no arguments\n",
    "def print_none():\n",
    "    print(\"I got nothin'.\")\n",
    "\n",
    "def print_two(arg1, arg2):\n",
    "    print(f\"arg1: {arg1}, arg2: {arg2}\")\n",
    "    \n",
    "print_two('Victor',\"Sleepy\")\n",
    "print_two(\"Sam\",\"Sam\")\n",
    "print_one(\"one item\")\n",
    "print_none()\n"
   ]
  },
  {
   "cell_type": "code",
   "execution_count": 7,
   "metadata": {},
   "outputs": [
    {
     "name": "stdout",
     "output_type": "stream",
     "text": [
      "We can just give the function numbers directly:\n",
      "You have 20 cheeses!\n",
      "You have 30 boxes of crackers!\n",
      "Man that's enough for a party!\n",
      "Get a blanket.\n",
      "\n",
      "OR, we can use variables from our script:\n",
      "You have 10 cheeses!\n",
      "You have 50 boxes of crackers!\n",
      "Man that's enough for a party!\n",
      "Get a blanket.\n",
      "\n",
      "We can even do math inside too:\n",
      "You have 30 cheeses!\n",
      "You have 11 boxes of crackers!\n",
      "Man that's enough for a party!\n",
      "Get a blanket.\n",
      "\n",
      "And we can combine the two, variables and math:\n",
      "You have 110 cheeses!\n",
      "You have 1050 boxes of crackers!\n",
      "Man that's enough for a party!\n",
      "Get a blanket.\n",
      "\n"
     ]
    }
   ],
   "source": [
    "# thirteenth thing to teach (a deeper dive with functions)\n",
    "\n",
    "#we are now using functions with variable or numbers or variables changed by math\n",
    "\n",
    "#takes two arguments\n",
    "def cheese_and_crackers(cheese_count, boxes_of_crackers):\n",
    "    print(f\"You have {cheese_count} cheeses!\")\n",
    "    print(f\"You have {boxes_of_crackers} boxes of crackers!\")\n",
    "    print(\"Man that's enough for a party!\")\n",
    "    print(\"Get a blanket.\\n\")\n",
    "\n",
    "\n",
    "#takes two arguments as numbers then assigns it to the variables in the definition\n",
    "print(\"We can just give the function numbers directly:\")\n",
    "cheese_and_crackers(20, 30)\n",
    "\n",
    "#takes two arguments as variables(parameters) then assigns it to the variables in the definition\n",
    "print(\"OR, we can use variables from our script:\")\n",
    "amount_of_cheese = 10\n",
    "amount_of_crackers = 50\n",
    "cheese_and_crackers(amount_of_cheese, amount_of_crackers)\n",
    "\n",
    "#takes two arguments but uses math ( no variables)\n",
    "print(\"We can even do math inside too:\")\n",
    "cheese_and_crackers(10 + 20, 5 + 6)\n",
    "\n",
    "#can use a parameter and do math with it\n",
    "print(\"And we can combine the two, variables and math:\")\n",
    "cheese_and_crackers(amount_of_cheese + 100, amount_of_crackers + 1000)"
   ]
  },
  {
   "cell_type": "code",
   "execution_count": 9,
   "metadata": {
    "scrolled": true
   },
   "outputs": [
    {
     "name": "stdout",
     "output_type": "stream",
     "text": [
      "Let's do some math with just functions!\n",
      "ADDING 30 + 5.5\n",
      "SUBTRACTING 78 - 4\n",
      "MULTIPLYING 90 * 2\n",
      "DIVIDING 100 / 2\n",
      "Age: 35.5, Height: 74, Weight: 180, IQ: 50.0\n"
     ]
    }
   ],
   "source": [
    "# fourteenth thing to teach (returning something with a function)\n",
    "\n",
    "def add(a, b):\n",
    "    print(f\"ADDING {a} + {b}\")\n",
    "    # without the f looks like this ADDING {a} + {b}\n",
    "    # with the f it looks like this ADDING 30 + 5\n",
    "    return a + b\n",
    "\n",
    "def subtract(a, b):\n",
    "    print(f\"SUBTRACTING {a} - {b}\")\n",
    "    c = a - b\n",
    "    return c\n",
    "\n",
    "def multiply(a, b):\n",
    "    print(f\"MULTIPLYING {a} * {b}\")\n",
    "    return a * b\n",
    "\n",
    "def divide(a, b):\n",
    "    print(f\"DIVIDING {a} / {b}\")\n",
    "    return a / b\n",
    "\n",
    "\n",
    "print(\"Let's do some math with just functions!\")\n",
    "\n",
    "age = add(30, 5.5) #35\n",
    "height = subtract(78, 4)  #74\n",
    "weight = multiply(90, 2) #180\n",
    "iq = divide(100, 2) #50.0\n",
    "\n",
    "print(f\"Age: {age}, Height: {height}, Weight: {weight}, IQ: {iq}\")"
   ]
  },
  {
   "cell_type": "code",
   "execution_count": 57,
   "metadata": {},
   "outputs": [
    {
     "name": "stdout",
     "output_type": "stream",
     "text": [
      "1\n"
     ]
    }
   ],
   "source": [
    "# fifteenth thing to teach (import and random)\n",
    "#taking a library/class called random and renaming it to rand\n",
    "\n",
    "import random as rand\n",
    "\n",
    "#getting a random number from 1 to 6\n",
    "x = rand.randint(1,1)\n",
    "print(x)"
   ]
  },
  {
   "cell_type": "code",
   "execution_count": 59,
   "metadata": {},
   "outputs": [
    {
     "name": "stdout",
     "output_type": "stream",
     "text": [
      "556\n",
      "10\n",
      "5\n"
     ]
    }
   ],
   "source": [
    "#Sixteenth thing to teach (cast/converting)\n",
    "#String\n",
    "number = \"5\"\n",
    "print(number + \"56\")\n",
    "#Int\n",
    "number = int(number)\n",
    "print(number + 5)\n",
    "#String\n",
    "number = str(number)\n",
    "\n",
    "print(number)\n",
    "#type()\n",
    "#remember inputs always come in as string"
   ]
  }
 ],
 "metadata": {
  "kernelspec": {
   "display_name": "Python 3",
   "language": "python",
   "name": "python3"
  },
  "language_info": {
   "codemirror_mode": {
    "name": "ipython",
    "version": 3
   },
   "file_extension": ".py",
   "mimetype": "text/x-python",
   "name": "python",
   "nbconvert_exporter": "python",
   "pygments_lexer": "ipython3",
   "version": "3.7.4"
  }
 },
 "nbformat": 4,
 "nbformat_minor": 2
}
